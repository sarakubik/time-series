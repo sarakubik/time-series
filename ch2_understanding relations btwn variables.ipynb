{
 "cells": [
  {
   "cell_type": "markdown",
   "id": "c6a2aa1d",
   "metadata": {},
   "source": [
    "# Ch2 Understanding relationships between variables"
   ]
  },
  {
   "cell_type": "code",
   "execution_count": 1,
   "id": "91cfb9ca",
   "metadata": {},
   "outputs": [],
   "source": [
    "import pandas as pd\n",
    "import datetime\n",
    "import matplotlib.pyplot as plt\n",
    "import seaborn as sns\n",
    "from scipy import stats"
   ]
  },
  {
   "cell_type": "code",
   "execution_count": 2,
   "id": "b18f66da",
   "metadata": {},
   "outputs": [
    {
     "data": {
      "text/html": [
       "<div>\n",
       "<style scoped>\n",
       "    .dataframe tbody tr th:only-of-type {\n",
       "        vertical-align: middle;\n",
       "    }\n",
       "\n",
       "    .dataframe tbody tr th {\n",
       "        vertical-align: top;\n",
       "    }\n",
       "\n",
       "    .dataframe thead th {\n",
       "        text-align: right;\n",
       "    }\n",
       "</style>\n",
       "<table border=\"1\" class=\"dataframe\">\n",
       "  <thead>\n",
       "    <tr style=\"text-align: right;\">\n",
       "      <th></th>\n",
       "      <th>Entity</th>\n",
       "      <th>Year</th>\n",
       "      <th>Smoke (Fouquet and DPCC (2011))</th>\n",
       "      <th>Suspended Particulate Matter (SPM) (Fouquet and DPCC (2011))</th>\n",
       "    </tr>\n",
       "  </thead>\n",
       "  <tbody>\n",
       "    <tr>\n",
       "      <th>0</th>\n",
       "      <td>Delhi</td>\n",
       "      <td>1997</td>\n",
       "      <td>NaN</td>\n",
       "      <td>363.0</td>\n",
       "    </tr>\n",
       "    <tr>\n",
       "      <th>1</th>\n",
       "      <td>Delhi</td>\n",
       "      <td>1998</td>\n",
       "      <td>NaN</td>\n",
       "      <td>378.0</td>\n",
       "    </tr>\n",
       "    <tr>\n",
       "      <th>2</th>\n",
       "      <td>Delhi</td>\n",
       "      <td>1999</td>\n",
       "      <td>NaN</td>\n",
       "      <td>375.0</td>\n",
       "    </tr>\n",
       "    <tr>\n",
       "      <th>3</th>\n",
       "      <td>Delhi</td>\n",
       "      <td>2000</td>\n",
       "      <td>NaN</td>\n",
       "      <td>431.0</td>\n",
       "    </tr>\n",
       "    <tr>\n",
       "      <th>4</th>\n",
       "      <td>Delhi</td>\n",
       "      <td>2001</td>\n",
       "      <td>NaN</td>\n",
       "      <td>382.0</td>\n",
       "    </tr>\n",
       "  </tbody>\n",
       "</table>\n",
       "</div>"
      ],
      "text/plain": [
       "  Entity  Year  Smoke (Fouquet and DPCC (2011))  \\\n",
       "0  Delhi  1997                              NaN   \n",
       "1  Delhi  1998                              NaN   \n",
       "2  Delhi  1999                              NaN   \n",
       "3  Delhi  2000                              NaN   \n",
       "4  Delhi  2001                              NaN   \n",
       "\n",
       "   Suspended Particulate Matter (SPM) (Fouquet and DPCC (2011))  \n",
       "0                                              363.0             \n",
       "1                                              378.0             \n",
       "2                                              375.0             \n",
       "3                                              431.0             \n",
       "4                                              382.0             "
      ]
     },
     "execution_count": 2,
     "metadata": {},
     "output_type": "execute_result"
    }
   ],
   "source": [
    "pollution = pd.read_csv('C:/Users/hp/Documents/Data Science/Machine Learning Time-Series book/data/spm.csv')\n",
    "pollution.head()"
   ]
  },
  {
   "cell_type": "code",
   "execution_count": 3,
   "id": "731479d3",
   "metadata": {},
   "outputs": [
    {
     "data": {
      "text/plain": [
       "City      object\n",
       "Year       int64\n",
       "Smoke    float64\n",
       "SPM      float64\n",
       "dtype: object"
      ]
     },
     "execution_count": 3,
     "metadata": {},
     "output_type": "execute_result"
    }
   ],
   "source": [
    "#rename the columns\n",
    "pollution = pollution.rename(\n",
    "    columns={\n",
    "    'Suspended Particulate Matter (SPM) (Fouquet and DPCC (2011))': 'SPM',\n",
    "    'Smoke (Fouquet and DPCC (2011))' : 'Smoke',\n",
    "    'Entity': 'City'\n",
    "    }\n",
    ")\n",
    "pollution.dtypes"
   ]
  },
  {
   "cell_type": "code",
   "execution_count": 4,
   "id": "436ede8a",
   "metadata": {},
   "outputs": [
    {
     "data": {
      "text/html": [
       "<div>\n",
       "<style scoped>\n",
       "    .dataframe tbody tr th:only-of-type {\n",
       "        vertical-align: middle;\n",
       "    }\n",
       "\n",
       "    .dataframe tbody tr th {\n",
       "        vertical-align: top;\n",
       "    }\n",
       "\n",
       "    .dataframe thead th {\n",
       "        text-align: right;\n",
       "    }\n",
       "</style>\n",
       "<table border=\"1\" class=\"dataframe\">\n",
       "  <thead>\n",
       "    <tr style=\"text-align: right;\">\n",
       "      <th></th>\n",
       "      <th>City</th>\n",
       "      <th>Year</th>\n",
       "      <th>Smoke</th>\n",
       "      <th>SPM</th>\n",
       "    </tr>\n",
       "  </thead>\n",
       "  <tbody>\n",
       "    <tr>\n",
       "      <th>0</th>\n",
       "      <td>Delhi</td>\n",
       "      <td>1997</td>\n",
       "      <td>NaN</td>\n",
       "      <td>363.0</td>\n",
       "    </tr>\n",
       "    <tr>\n",
       "      <th>1</th>\n",
       "      <td>Delhi</td>\n",
       "      <td>1998</td>\n",
       "      <td>NaN</td>\n",
       "      <td>378.0</td>\n",
       "    </tr>\n",
       "    <tr>\n",
       "      <th>2</th>\n",
       "      <td>Delhi</td>\n",
       "      <td>1999</td>\n",
       "      <td>NaN</td>\n",
       "      <td>375.0</td>\n",
       "    </tr>\n",
       "    <tr>\n",
       "      <th>3</th>\n",
       "      <td>Delhi</td>\n",
       "      <td>2000</td>\n",
       "      <td>NaN</td>\n",
       "      <td>431.0</td>\n",
       "    </tr>\n",
       "    <tr>\n",
       "      <th>4</th>\n",
       "      <td>Delhi</td>\n",
       "      <td>2001</td>\n",
       "      <td>NaN</td>\n",
       "      <td>382.0</td>\n",
       "    </tr>\n",
       "  </tbody>\n",
       "</table>\n",
       "</div>"
      ],
      "text/plain": [
       "    City  Year  Smoke    SPM\n",
       "0  Delhi  1997    NaN  363.0\n",
       "1  Delhi  1998    NaN  378.0\n",
       "2  Delhi  1999    NaN  375.0\n",
       "3  Delhi  2000    NaN  431.0\n",
       "4  Delhi  2001    NaN  382.0"
      ]
     },
     "execution_count": 4,
     "metadata": {},
     "output_type": "execute_result"
    }
   ],
   "source": [
    "pollution.head()"
   ]
  },
  {
   "cell_type": "code",
   "execution_count": 5,
   "id": "69e0b210",
   "metadata": {},
   "outputs": [
    {
     "data": {
      "text/plain": [
       "City             object\n",
       "Year     datetime64[ns]\n",
       "Smoke           float64\n",
       "SPM             float64\n",
       "dtype: object"
      ]
     },
     "execution_count": 5,
     "metadata": {},
     "output_type": "execute_result"
    }
   ],
   "source": [
    "#We need to convert Year column from int64 to datetime to help with plotting\n",
    "pollution['Year'] = pollution['Year'].apply(\n",
    "    lambda x: datetime.datetime.strptime(str(x), '%Y')\n",
    ")\n",
    "pollution.dtypes"
   ]
  },
  {
   "cell_type": "code",
   "execution_count": 6,
   "id": "e037e2fb",
   "metadata": {},
   "outputs": [
    {
     "data": {
      "text/plain": [
       "City      0\n",
       "Year      0\n",
       "Smoke    30\n",
       "SPM       0\n",
       "dtype: int64"
      ]
     },
     "execution_count": 6,
     "metadata": {},
     "output_type": "execute_result"
    }
   ],
   "source": [
    "# Looking for missing data\n",
    "pollution.isnull().sum()"
   ]
  },
  {
   "cell_type": "code",
   "execution_count": 7,
   "id": "70965769",
   "metadata": {},
   "outputs": [
    {
     "data": {
      "text/plain": [
       "<AxesSubplot:>"
      ]
     },
     "execution_count": 7,
     "metadata": {},
     "output_type": "execute_result"
    },
    {
     "data": {
      "image/png": "[encoded data removed]",
      "text/plain": [
       "<Figure size 1440x432 with 1 Axes>"
      ]
     },
     "metadata": {
      "needs_background": "light"
     },
     "output_type": "display_data"
    }
   ],
   "source": [
    "#to visually see the missing cells -- I kind-a love this!\n",
    "plt.figure(figsize=(20, 6))\n",
    "sns.heatmap(pollution.isnull(),yticklabels=False,cbar=False,cmap='viridis')"
   ]
  },
  {
   "cell_type": "code",
   "execution_count": 8,
   "id": "d55dcd96",
   "metadata": {},
   "outputs": [
    {
     "name": "stdout",
     "output_type": "stream",
     "text": [
      "City     0\n",
      "Year     0\n",
      "Smoke    0\n",
      "SPM      0\n",
      "dtype: int64\n"
     ]
    },
    {
     "name": "stderr",
     "output_type": "stream",
     "text": [
      "<ipython-input-8-d8c197b7fb5a>:2: FutureWarning: DataFrame.mean and DataFrame.median with numeric_only=None will include datetime64 and datetime64tz columns in a future version.\n",
      "  pollution.fillna(pollution.mean(), inplace=True)\n"
     ]
    }
   ],
   "source": [
    "#imputing the mean\n",
    "pollution.fillna(pollution.mean(), inplace=True)\n",
    "# count the number of NaN values in each column\n",
    "print(pollution.isnull().sum())"
   ]
  },
  {
   "cell_type": "code",
   "execution_count": 9,
   "id": "ebd378f2",
   "metadata": {},
   "outputs": [
    {
     "data": {
      "text/plain": [
       "<AxesSubplot:>"
      ]
     },
     "execution_count": 9,
     "metadata": {},
     "output_type": "execute_result"
    },
    {
     "data": {
      "image/png": "[encoded data removed]",
      "text/plain": [
       "<Figure size 1440x432 with 1 Axes>"
      ]
     },
     "metadata": {
      "needs_background": "light"
     },
     "output_type": "display_data"
    }
   ],
   "source": [
    "plt.figure(figsize=(20, 6))\n",
    "sns.heatmap(pollution.isnull(),yticklabels=False,cbar=False,cmap='viridis')"
   ]
  },
  {
   "cell_type": "markdown",
   "id": "5b243da0",
   "metadata": {},
   "source": [
    "# Correlations between Smoke and SPM"
   ]
  },
  {
   "cell_type": "code",
   "execution_count": 10,
   "id": "45147b0a",
   "metadata": {},
   "outputs": [],
   "source": [
    "# Convert dataframe into series\n",
    "list1 = pollution['SPM']\n",
    "list2 = pollution['Smoke']"
   ]
  },
  {
   "cell_type": "markdown",
   "id": "196d65cb",
   "metadata": {},
   "source": [
    "# Pearson's correlation"
   ]
  },
  {
   "cell_type": "code",
   "execution_count": 11,
   "id": "05bd6a7c",
   "metadata": {},
   "outputs": [
    {
     "data": {
      "text/plain": [
       "(0.8897655884569478, 4.204118184775438e-114)"
      ]
     },
     "execution_count": 11,
     "metadata": {},
     "output_type": "execute_result"
    }
   ],
   "source": [
    "stats.pearsonr(list1,list2)\n",
    "#First value is Pearsons correlation\n",
    "#Second value is p value"
   ]
  },
  {
   "cell_type": "code",
   "execution_count": 12,
   "id": "7860ee89",
   "metadata": {},
   "outputs": [],
   "source": [
    "#So from above, p is 0.00 which means signifigance\n",
    "# SPM is significantly, and strongly correlated with Smoke-- almost identical"
   ]
  },
  {
   "cell_type": "code",
   "execution_count": 13,
   "id": "d04368c6",
   "metadata": {},
   "outputs": [
    {
     "data": {
      "image/png": "[encoded data removed]",
      "text/plain": [
       "<Figure size 432x288 with 1 Axes>"
      ]
     },
     "metadata": {
      "needs_background": "light"
     },
     "output_type": "display_data"
    }
   ],
   "source": [
    "#to create a scatterplot of SPM and Smoke\n",
    "plt.scatter(list1, list2)\n",
    "plt.xlabel(\"SPM\")\n",
    "plt.ylabel(\"Smoke\")\n",
    "plt.show()"
   ]
  },
  {
   "cell_type": "markdown",
   "id": "fcfedc57",
   "metadata": {},
   "source": [
    "# Plotting one variable over time"
   ]
  },
  {
   "cell_type": "code",
   "execution_count": 14,
   "id": "d056dc0f",
   "metadata": {},
   "outputs": [
    {
     "data": {
      "image/png": "[encoded data removed]",
      "text/plain": [
       "<Figure size 864x432 with 1 Axes>"
      ]
     },
     "metadata": {
      "needs_background": "light"
     },
     "output_type": "display_data"
    }
   ],
   "source": [
    "#to plot SPM, or Suspended Particulate Matter, over time\n",
    "pollution = pollution.pivot(\"Year\", \"City\", \"SPM\")\n",
    "plt.figure(figsize=(12, 6))\n",
    "sns.lineplot(data=pollution)\n",
    "plt.ylabel('SPM');"
   ]
  },
  {
   "cell_type": "code",
   "execution_count": 15,
   "id": "b62a8d7c",
   "metadata": {},
   "outputs": [],
   "source": [
    "# You can see a positive trend from 1700 - 1880\n",
    "# Then a downward trend from 1880-2000"
   ]
  },
  {
   "cell_type": "markdown",
   "id": "e000ad3a",
   "metadata": {},
   "source": [
    "# Autocorrelation\n",
    "## the correlation of a signal with a lagged version of itself\n",
    "## can help find repeating patterns"
   ]
  },
  {
   "cell_type": "code",
   "execution_count": 20,
   "id": "cce079ca",
   "metadata": {},
   "outputs": [
    {
     "data": {
      "text/plain": [
       "<AxesSubplot:xlabel='Lag', ylabel='Autocorrelation'>"
      ]
     },
     "execution_count": 20,
     "metadata": {},
     "output_type": "execute_result"
    },
    {
     "data": {
      "image/png": "[encoded data removed]",
      "text/plain": [
       "<Figure size 432x288 with 1 Axes>"
      ]
     },
     "metadata": {
      "needs_background": "light"
     },
     "output_type": "display_data"
    }
   ],
   "source": [
    "## Autocorrelation pollution from London\n",
    "pd.plotting.autocorrelation_plot(pollution['London'])"
   ]
  },
  {
   "cell_type": "code",
   "execution_count": 21,
   "id": "ff7bc3bb",
   "metadata": {},
   "outputs": [],
   "source": [
    "#Since the autocorrelation is not flat, we can say SPM is not a stationary process"
   ]
  },
  {
   "cell_type": "markdown",
   "id": "4312586f",
   "metadata": {},
   "source": [
    "# Statistical test for stationary is augmented Dickey-Fuller test"
   ]
  },
  {
   "cell_type": "code",
   "execution_count": 22,
   "id": "f98c7231",
   "metadata": {},
   "outputs": [
    {
     "data": {
      "text/plain": [
       "(-0.33721640804243147,\n",
       " 0.9200654843183893,\n",
       " 13,\n",
       " 303,\n",
       " {'1%': -3.4521175397304784,\n",
       "  '5%': -2.8711265007266666,\n",
       "  '10%': -2.571877823851692},\n",
       " 1684.699266349387)"
      ]
     },
     "execution_count": 22,
     "metadata": {},
     "output_type": "execute_result"
    }
   ],
   "source": [
    "from statsmodels.tsa import stattools\n",
    "\n",
    "stattools.adfuller(pollution['London'])"
   ]
  },
  {
   "cell_type": "code",
   "execution_count": null,
   "id": "dc07c8e0",
   "metadata": {},
   "outputs": [],
   "source": [
    "# The second return value is the p-value\n",
    "# With p-values below 5% or 0.05 we would typically reject the null hypothesis, and\n",
    "# we could assume that our time-series is stationary. \n",
    "# In our case, we can't assume that the series is stationary."
   ]
  }
 ],
 "metadata": {
  "kernelspec": {
   "display_name": "Python 3",
   "language": "python",
   "name": "python3"
  },
  "language_info": {
   "codemirror_mode": {
    "name": "ipython",
    "version": 3
   },
   "file_extension": ".py",
   "mimetype": "text/x-python",
   "name": "python",
   "nbconvert_exporter": "python",
   "pygments_lexer": "ipython3",
   "version": "3.8.8"
  }
 },
 "nbformat": 4,
 "nbformat_minor": 5
}
