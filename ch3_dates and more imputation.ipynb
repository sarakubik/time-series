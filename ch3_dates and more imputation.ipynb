{
 "cells": [
  {
   "cell_type": "markdown",
   "id": "8e809200",
   "metadata": {},
   "source": [
    "# Ch3 Imputation"
   ]
  },
  {
   "cell_type": "code",
   "execution_count": 22,
   "id": "28415a7c",
   "metadata": {},
   "outputs": [],
   "source": [
    "# To get California holidays for 2022"
   ]
  },
  {
   "cell_type": "code",
   "execution_count": 25,
   "id": "0db08038",
   "metadata": {},
   "outputs": [],
   "source": [
    "from typing import List\n",
    "from dateutil.relativedelta import relativedelta, TH\n",
    "import datetime\n",
    "from workalendar.usa import California\n",
    "\n",
    "def create_custom_holidays(year) -> List:\n",
    "      custom_holidays = California().holidays()\n",
    "      custom_holidays.append((\n",
    "        (datetime.datetime(year, 11, 1) + relativedelta(weekday=TH(+4)) + datetime.timedelta(days=1)).date(),\n",
    "        \"Black Friday\"\n",
    "      ))\n",
    "      return {k: v for (k, v) in custom_holidays}\n",
    "\n",
    "custom_holidays = create_custom_holidays(2022)"
   ]
  },
  {
   "cell_type": "code",
   "execution_count": 26,
   "id": "89a21b2a",
   "metadata": {},
   "outputs": [
    {
     "data": {
      "text/plain": [
       "{datetime.date(2021, 12, 31): 'New year (Observed)',\n",
       " datetime.date(2022, 1, 1): 'New year',\n",
       " datetime.date(2022, 1, 17): 'Birthday of Martin Luther King, Jr.',\n",
       " datetime.date(2022, 2, 21): \"Washington's Birthday\",\n",
       " datetime.date(2022, 3, 31): 'Cesar Chavez Day',\n",
       " datetime.date(2022, 5, 30): 'Memorial Day',\n",
       " datetime.date(2022, 7, 4): 'Independence Day',\n",
       " datetime.date(2022, 9, 5): 'Labor Day',\n",
       " datetime.date(2022, 11, 11): 'Veterans Day',\n",
       " datetime.date(2022, 11, 24): 'Thanksgiving Day',\n",
       " datetime.date(2022, 11, 25): 'Black Friday',\n",
       " datetime.date(2022, 12, 25): 'Christmas Day',\n",
       " datetime.date(2022, 12, 26): 'Christmas Day (Observed)'}"
      ]
     },
     "execution_count": 26,
     "metadata": {},
     "output_type": "execute_result"
    }
   ],
   "source": [
    "custom_holidays"
   ]
  },
  {
   "cell_type": "code",
   "execution_count": 27,
   "id": "64559354",
   "metadata": {},
   "outputs": [
    {
     "data": {
      "text/plain": [
       "False"
      ]
     },
     "execution_count": 27,
     "metadata": {},
     "output_type": "execute_result"
    }
   ],
   "source": [
    "#Is today a holiday?   -- Useful in an example where we are looking at different people\n",
    "# who apply for bank loans, for example. Do they apply on a holiday or weekday?\n",
    "def is_holiday(current_date: datetime.date):\n",
    "    \"\"\"Determine if we have a holiday.\"\"\"\n",
    "    return custom_holidays.get(current_date, False)\n",
    "\n",
    "today = datetime.date(2021, 4, 11)\n",
    "is_holiday(today)"
   ]
  },
  {
   "cell_type": "code",
   "execution_count": 28,
   "id": "e14be887",
   "metadata": {},
   "outputs": [],
   "source": [
    "#More ways to look at dates, and paydays and extract features starting on pdf page 85\n",
    "# A) like the number of days since the end of the previous year and to the end of the current year\n",
    "# B) how far we are into this year\n",
    "# C) what dates certain days in a month are"
   ]
  },
  {
   "cell_type": "code",
   "execution_count": 29,
   "id": "37fb35bf",
   "metadata": {},
   "outputs": [],
   "source": [
    "# Can look at \n",
    "# D) getting different seasons, \n",
    "# E) how many hours of daylight you have (to use this to predict sales volumes-- people buy more\n",
    "# when there are more hours of sunlight in a day?)"
   ]
  },
  {
   "cell_type": "code",
   "execution_count": null,
   "id": "58055545",
   "metadata": {},
   "outputs": [],
   "source": [
    "# More imputation here https://github.com/benman1/Machine-Learning-for-Time-Series-with-Python/blob/main/chapter3/Preprocessing.ipynb"
   ]
  }
 ],
 "metadata": {
  "kernelspec": {
   "display_name": "Python 3",
   "language": "python",
   "name": "python3"
  },
  "language_info": {
   "codemirror_mode": {
    "name": "ipython",
    "version": 3
   },
   "file_extension": ".py",
   "mimetype": "text/x-python",
   "name": "python",
   "nbconvert_exporter": "python",
   "pygments_lexer": "ipython3",
   "version": "3.8.8"
  }
 },
 "nbformat": 4,
 "nbformat_minor": 5
}
