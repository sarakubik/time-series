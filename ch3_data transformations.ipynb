{
 "cells": [
  {
   "cell_type": "code",
   "execution_count": 1,
   "id": "048dd64c",
   "metadata": {},
   "outputs": [
    {
     "name": "stdout",
     "output_type": "stream",
     "text": [
      "Collecting tsfresh\n",
      "  Downloading tsfresh-0.19.0-py2.py3-none-any.whl (97 kB)\n",
      "Collecting workalendar\n",
      "  Downloading workalendar-16.2.0-py3-none-any.whl (205 kB)\n",
      "Collecting astral\n",
      "  Downloading astral-2.2-py2.py3-none-any.whl (30 kB)\n",
      "Collecting featuretools[tsfresh]\n",
      "  Downloading featuretools-1.3.0-py3-none-any.whl (336 kB)\n",
      "Collecting sktime\n",
      "  Using cached sktime-0.9.0-cp38-cp38-win_amd64.whl (4.8 MB)\n",
      "Requirement already satisfied: requests>=2.9.1 in c:\\users\\hp\\anaconda3\\lib\\site-packages (from tsfresh) (2.25.1)\n",
      "Requirement already satisfied: dask[dataframe]>=2.9.0 in c:\\users\\hp\\anaconda3\\lib\\site-packages (from tsfresh) (2021.4.0)\n",
      "Collecting stumpy>=1.7.2\n",
      "  Downloading stumpy-1.10.2-py3-none-any.whl (119 kB)\n",
      "Requirement already satisfied: statsmodels>=0.13 in c:\\users\\hp\\anaconda3\\lib\\site-packages (from tsfresh) (0.13.1)\n",
      "Collecting matrixprofile<2.0.0,>=1.1.10\n",
      "  Downloading matrixprofile-1.1.10-cp38-cp38-win_amd64.whl (515 kB)\n",
      "Requirement already satisfied: pandas>=0.25.0 in c:\\users\\hp\\anaconda3\\lib\\site-packages (from tsfresh) (1.2.4)\n",
      "Requirement already satisfied: tqdm>=4.10.0 in c:\\users\\hp\\anaconda3\\lib\\site-packages (from tsfresh) (4.59.0)\n",
      "Requirement already satisfied: distributed>=2.11.0 in c:\\users\\hp\\anaconda3\\lib\\site-packages (from tsfresh) (2021.4.0)\n",
      "Requirement already satisfied: scikit-learn>=0.22.0 in c:\\users\\hp\\anaconda3\\lib\\site-packages (from tsfresh) (0.24.1)\n",
      "Requirement already satisfied: patsy>=0.4.1 in c:\\users\\hp\\anaconda3\\lib\\site-packages (from tsfresh) (0.5.2)\n",
      "Requirement already satisfied: numpy>=1.15.1 in c:\\users\\hp\\anaconda3\\lib\\site-packages (from tsfresh) (1.19.5)\n",
      "Requirement already satisfied: cloudpickle in c:\\users\\hp\\anaconda3\\lib\\site-packages (from tsfresh) (1.6.0)\n",
      "Requirement already satisfied: scipy>=1.2.0 in c:\\users\\hp\\anaconda3\\lib\\site-packages (from tsfresh) (1.5.4)\n",
      "Requirement already satisfied: convertdate in c:\\users\\hp\\anaconda3\\lib\\site-packages (from workalendar) (2.3.2)\n",
      "Collecting lunardate\n",
      "  Downloading lunardate-0.2.0-py3-none-any.whl (5.6 kB)\n",
      "Collecting backports.zoneinfo\n",
      "  Downloading backports.zoneinfo-0.2.1-cp38-cp38-win_amd64.whl (38 kB)\n",
      "Collecting tzdata\n",
      "  Downloading tzdata-2021.5-py2.py3-none-any.whl (339 kB)\n",
      "Requirement already satisfied: python-dateutil in c:\\users\\hp\\anaconda3\\lib\\site-packages (from workalendar) (2.8.1)\n",
      "Collecting pyluach\n",
      "  Downloading pyluach-1.3.0-py3-none-any.whl (17 kB)\n",
      "Requirement already satisfied: pytz in c:\\users\\hp\\anaconda3\\lib\\site-packages (from astral) (2021.1)\n",
      "Collecting dask[dataframe]>=2.9.0\n",
      "  Downloading dask-2021.12.0-py3-none-any.whl (1.0 MB)\n",
      "Collecting distributed>=2.11.0\n",
      "  Downloading distributed-2021.12.0-py3-none-any.whl (802 kB)\n",
      "Requirement already satisfied: psutil>=5.6.6 in c:\\users\\hp\\anaconda3\\lib\\site-packages (from featuretools[tsfresh]) (5.8.0)\n",
      "Collecting woodwork>=0.8.1\n",
      "  Downloading woodwork-0.11.1-py3-none-any.whl (160 kB)\n",
      "Collecting pandas>=0.25.0\n",
      "  Downloading pandas-1.3.5-cp38-cp38-win_amd64.whl (10.2 MB)\n",
      "Requirement already satisfied: pyyaml>=5.4 in c:\\users\\hp\\anaconda3\\lib\\site-packages (from featuretools[tsfresh]) (5.4.1)\n",
      "Requirement already satisfied: click>=7.0.0 in c:\\users\\hp\\anaconda3\\lib\\site-packages (from featuretools[tsfresh]) (7.1.2)\n",
      "Collecting featuretools-tsfresh-primitives>=1.0.0\n",
      "  Downloading featuretools_tsfresh_primitives-1.0.1-py3-none-any.whl (57 kB)\n",
      "Collecting deprecated>=1.2.13\n",
      "  Downloading Deprecated-1.2.13-py2.py3-none-any.whl (9.6 kB)\n",
      "Collecting numpy>=1.15.1\n",
      "  Downloading numpy-1.19.3-cp38-cp38-win_amd64.whl (13.3 MB)\n",
      "Requirement already satisfied: wheel in c:\\users\\hp\\anaconda3\\lib\\site-packages (from sktime) (0.36.2)\n",
      "Requirement already satisfied: numba>=0.53 in c:\\users\\hp\\anaconda3\\lib\\site-packages (from sktime) (0.53.1)\n",
      "Collecting sktime\n",
      "  Using cached sktime-0.8.1-cp38-cp38-win_amd64.whl (4.8 MB)\n",
      "  Downloading sktime-0.8.0-cp38-cp38-win_amd64.whl (4.6 MB)\n",
      "Requirement already satisfied: packaging>=20.0 in c:\\users\\hp\\anaconda3\\lib\\site-packages (from dask[dataframe]>=2.9.0->tsfresh) (20.9)\n",
      "Requirement already satisfied: partd>=0.3.10 in c:\\users\\hp\\anaconda3\\lib\\site-packages (from dask[dataframe]>=2.9.0->tsfresh) (1.2.0)\n",
      "Requirement already satisfied: toolz>=0.8.2 in c:\\users\\hp\\anaconda3\\lib\\site-packages (from dask[dataframe]>=2.9.0->tsfresh) (0.11.1)\n",
      "Requirement already satisfied: fsspec>=0.6.0 in c:\\users\\hp\\anaconda3\\lib\\site-packages (from dask[dataframe]>=2.9.0->tsfresh) (0.9.0)\n",
      "Requirement already satisfied: tornado>=6.0.3 in c:\\users\\hp\\anaconda3\\lib\\site-packages (from distributed>=2.11.0->tsfresh) (6.1)\n",
      "Requirement already satisfied: tblib>=1.6.0 in c:\\users\\hp\\anaconda3\\lib\\site-packages (from distributed>=2.11.0->tsfresh) (1.7.0)\n",
      "Requirement already satisfied: setuptools in c:\\users\\hp\\anaconda3\\lib\\site-packages (from distributed>=2.11.0->tsfresh) (52.0.0.post20210125)\n",
      "Requirement already satisfied: msgpack>=0.6.0 in c:\\users\\hp\\anaconda3\\lib\\site-packages (from distributed>=2.11.0->tsfresh) (1.0.2)\n",
      "Requirement already satisfied: sortedcontainers!=2.0.0,!=2.0.1 in c:\\users\\hp\\anaconda3\\lib\\site-packages (from distributed>=2.11.0->tsfresh) (2.3.0)\n",
      "Requirement already satisfied: jinja2 in c:\\users\\hp\\anaconda3\\lib\\site-packages (from distributed>=2.11.0->tsfresh) (2.11.3)\n",
      "Requirement already satisfied: zict>=0.1.3 in c:\\users\\hp\\anaconda3\\lib\\site-packages (from distributed>=2.11.0->tsfresh) (2.0.0)\n",
      "Collecting featuretools-tsfresh-primitives>=1.0.0\n",
      "  Downloading featuretools_tsfresh_primitives-1.0.0-py3-none-any.whl (56 kB)\n",
      "INFO: pip is looking at multiple versions of dask to determine which version is compatible with other requirements. This could take a while.\n",
      "INFO: pip is looking at multiple versions of distributed to determine which version is compatible with other requirements. This could take a while.\n",
      "Collecting distributed>=2.11.0\n",
      "  Downloading distributed-2021.11.2-py3-none-any.whl (802 kB)\n",
      "  Downloading distributed-2021.11.1-py3-none-any.whl (793 kB)\n",
      "  Downloading distributed-2021.11.0-py3-none-any.whl (793 kB)\n",
      "  Downloading distributed-2021.10.0-py3-none-any.whl (791 kB)\n",
      "INFO: pip is looking at multiple versions of dask[dataframe] to determine which version is compatible with other requirements. This could take a while.\n",
      "Collecting dask[dataframe]>=2.9.0\n",
      "  Downloading dask-2021.11.2-py3-none-any.whl (1.0 MB)\n",
      "  Downloading dask-2021.11.1-py3-none-any.whl (1.0 MB)\n",
      "  Downloading dask-2021.11.0-py3-none-any.whl (1.0 MB)\n",
      "  Downloading dask-2021.10.0-py3-none-any.whl (1.0 MB)\n",
      "INFO: pip is looking at multiple versions of cloudpickle to determine which version is compatible with other requirements. This could take a while.\n",
      "Collecting cloudpickle\n",
      "  Downloading cloudpickle-2.0.0-py3-none-any.whl (25 kB)\n",
      "INFO: pip is looking at multiple versions of dask to determine which version is compatible with other requirements. This could take a while.\n",
      "INFO: pip is looking at multiple versions of distributed to determine which version is compatible with other requirements. This could take a while.\n",
      "INFO: pip is looking at multiple versions of dask[dataframe] to determine which version is compatible with other requirements. This could take a while.\n",
      "  Downloading cloudpickle-1.6.0-py3-none-any.whl (23 kB)\n",
      "INFO: This is taking longer than usual. You might need to provide the dependency resolver with stricter constraints to reduce runtime. If you want to abort this run, you can press Ctrl + C to do so. To improve how pip performs, tell us what happened here: https://pip.pypa.io/surveys/backtracking\n",
      "INFO: This is taking longer than usual. You might need to provide the dependency resolver with stricter constraints to reduce runtime. If you want to abort this run, you can press Ctrl + C to do so. To improve how pip performs, tell us what happened here: https://pip.pypa.io/surveys/backtracking\n",
      "INFO: This is taking longer than usual. You might need to provide the dependency resolver with stricter constraints to reduce runtime. If you want to abort this run, you can press Ctrl + C to do so. To improve how pip performs, tell us what happened here: https://pip.pypa.io/surveys/backtracking\n",
      "  Downloading cloudpickle-1.5.0-py3-none-any.whl (22 kB)\n",
      "INFO: pip is looking at multiple versions of click to determine which version is compatible with other requirements. This could take a while.\n",
      "Collecting click>=7.0.0\n",
      "  Downloading click-8.0.3-py3-none-any.whl (97 kB)\n",
      "Requirement already satisfied: colorama in c:\\users\\hp\\anaconda3\\lib\\site-packages (from click>=7.0.0->featuretools[tsfresh]) (0.4.4)\n",
      "INFO: pip is looking at multiple versions of cloudpickle to determine which version is compatible with other requirements. This could take a while.\n",
      "  Downloading click-8.0.2-py3-none-any.whl (97 kB)\n",
      "  Downloading click-8.0.1-py3-none-any.whl (97 kB)\n",
      "INFO: This is taking longer than usual. You might need to provide the dependency resolver with stricter constraints to reduce runtime. If you want to abort this run, you can press Ctrl + C to do so. To improve how pip performs, tell us what happened here: https://pip.pypa.io/surveys/backtracking\n",
      "  Downloading click-8.0.0-py3-none-any.whl (96 kB)\n",
      "  Downloading click-7.1.2-py2.py3-none-any.whl (82 kB)\n",
      "  Downloading click-7.1.1-py2.py3-none-any.whl (82 kB)\n",
      "  Downloading click-7.1-py2.py3-none-any.whl (82 kB)\n",
      "INFO: pip is looking at multiple versions of click to determine which version is compatible with other requirements. This could take a while.\n",
      "  Downloading Click-7.0-py2.py3-none-any.whl (81 kB)\n",
      "INFO: pip is looking at multiple versions of sktime to determine which version is compatible with other requirements. This could take a while.\n",
      "Collecting sktime\n",
      "  Downloading sktime-0.7.0-cp38-cp38-win_amd64.whl (4.5 MB)\n",
      "INFO: This is taking longer than usual. You might need to provide the dependency resolver with stricter constraints to reduce runtime. If you want to abort this run, you can press Ctrl + C to do so. To improve how pip performs, tell us what happened here: https://pip.pypa.io/surveys/backtracking\n",
      "  Downloading sktime-0.6.1-cp38-cp38-win_amd64.whl (4.4 MB)\n",
      "  Downloading sktime-0.6.0-cp38-cp38-win_amd64.whl (4.4 MB)\n",
      "  Downloading sktime-0.5.3-cp38-cp38-win_amd64.whl (4.4 MB)\n",
      "  Downloading sktime-0.5.2-cp38-cp38-win_amd64.whl (4.3 MB)\n",
      "  Downloading sktime-0.5.1-cp38-cp38-win_amd64.whl (4.3 MB)\n",
      "  Downloading sktime-0.5.0-cp38-cp38-win_amd64.whl (4.3 MB)\n",
      "INFO: pip is looking at multiple versions of sktime to determine which version is compatible with other requirements. This could take a while.\n",
      "  Downloading sktime-0.4.3-cp38-cp38-win_amd64.whl (4.3 MB)\n",
      "  Downloading sktime-0.4.2-cp38-cp38-win_amd64.whl (4.2 MB)\n",
      "  Downloading sktime-0.4.1-cp38-cp38-win_amd64.whl (4.2 MB)\n",
      "  Downloading sktime-0.4.0-cp38-cp38-win_amd64.whl (2.6 MB)\n",
      "  Downloading sktime-0.3.0.tar.gz (5.0 MB)\n",
      "Requirement already satisfied: joblib in c:\\users\\hp\\anaconda3\\lib\\site-packages (from sktime) (1.0.1)\n",
      "Collecting scikit-posthocs>=0.5.0\n",
      "  Downloading scikit-posthocs-0.6.7.tar.gz (43 kB)\n",
      "  Installing build dependencies: started\n",
      "  Installing build dependencies: finished with status 'done'\n",
      "  Getting requirements to build wheel: started\n",
      "  Getting requirements to build wheel: finished with status 'done'\n",
      "    Preparing wheel metadata: started\n",
      "    Preparing wheel metadata: finished with status 'done'\n",
      "INFO: This is taking longer than usual. You might need to provide the dependency resolver with stricter constraints to reduce runtime. If you want to abort this run, you can press Ctrl + C to do so. To improve how pip performs, tell us what happened here: https://pip.pypa.io/surveys/backtracking\n",
      "Collecting sktime\n",
      "  Downloading sktime-0.2.0.tar.gz (1.7 MB)\n",
      "Requirement already satisfied: cython in c:\\users\\hp\\anaconda3\\lib\\site-packages (from sktime) (0.29.23)\n",
      "  Downloading sktime-0.1.0-py3-none-any.whl (548 kB)\n",
      "INFO: pip is looking at multiple versions of featuretools[tsfresh] to determine which version is compatible with other requirements. This could take a while.\n",
      "Collecting featuretools[tsfresh]\n",
      "  Downloading featuretools-1.2.0-py3-none-any.whl (335 kB)\n",
      "  Downloading featuretools-1.1.0-py3-none-any.whl (329 kB)\n",
      "Requirement already satisfied: matplotlib>=3.0.3 in c:\\users\\hp\\anaconda3\\lib\\site-packages (from matrixprofile<2.0.0,>=1.1.10->tsfresh) (3.3.4)\n",
      "Collecting protobuf==3.11.2\n",
      "  Downloading protobuf-3.11.2-py2.py3-none-any.whl (434 kB)\n",
      "Requirement already satisfied: six>=1.9 in c:\\users\\hp\\anaconda3\\lib\\site-packages (from protobuf==3.11.2->matrixprofile<2.0.0,>=1.1.10->tsfresh) (1.15.0)\n",
      "Requirement already satisfied: kiwisolver>=1.0.1 in c:\\users\\hp\\anaconda3\\lib\\site-packages (from matplotlib>=3.0.3->matrixprofile<2.0.0,>=1.1.10->tsfresh) (1.3.1)\n",
      "Requirement already satisfied: cycler>=0.10 in c:\\users\\hp\\anaconda3\\lib\\site-packages (from matplotlib>=3.0.3->matrixprofile<2.0.0,>=1.1.10->tsfresh) (0.10.0)\n",
      "Requirement already satisfied: pyparsing!=2.0.4,!=2.1.2,!=2.1.6,>=2.0.3 in c:\\users\\hp\\anaconda3\\lib\\site-packages (from matplotlib>=3.0.3->matrixprofile<2.0.0,>=1.1.10->tsfresh) (2.4.7)\n",
      "Requirement already satisfied: pillow>=6.2.0 in c:\\users\\hp\\anaconda3\\lib\\site-packages (from matplotlib>=3.0.3->matrixprofile<2.0.0,>=1.1.10->tsfresh) (8.2.0)\n",
      "Requirement already satisfied: llvmlite<0.37,>=0.36.0rc1 in c:\\users\\hp\\anaconda3\\lib\\site-packages (from numba>=0.53->sktime) (0.36.0)\n",
      "Requirement already satisfied: locket in c:\\users\\hp\\anaconda3\\lib\\site-packages\\locket-0.2.1-py3.8.egg (from partd>=0.3.10->dask[dataframe]>=2.9.0->tsfresh) (0.2.1)\n",
      "Requirement already satisfied: chardet<5,>=3.0.2 in c:\\users\\hp\\anaconda3\\lib\\site-packages (from requests>=2.9.1->tsfresh) (4.0.0)\n",
      "Requirement already satisfied: certifi>=2017.4.17 in c:\\users\\hp\\anaconda3\\lib\\site-packages (from requests>=2.9.1->tsfresh) (2021.10.8)\n",
      "Requirement already satisfied: idna<3,>=2.5 in c:\\users\\hp\\anaconda3\\lib\\site-packages (from requests>=2.9.1->tsfresh) (2.10)\n",
      "Requirement already satisfied: urllib3<1.27,>=1.21.1 in c:\\users\\hp\\anaconda3\\lib\\site-packages (from requests>=2.9.1->tsfresh) (1.26.4)\n",
      "Requirement already satisfied: threadpoolctl>=2.0.0 in c:\\users\\hp\\anaconda3\\lib\\site-packages (from scikit-learn>=0.22.0->tsfresh) (2.1.0)\n",
      "Requirement already satisfied: heapdict in c:\\users\\hp\\anaconda3\\lib\\site-packages (from zict>=0.1.3->distributed>=2.11.0->tsfresh) (1.0.1)\n",
      "Requirement already satisfied: pymeeus<=1,>=0.3.13 in c:\\users\\hp\\anaconda3\\lib\\site-packages (from convertdate->workalendar) (0.5.11)\n",
      "Requirement already satisfied: MarkupSafe>=0.23 in c:\\users\\hp\\anaconda3\\lib\\site-packages (from jinja2->distributed>=2.11.0->tsfresh) (2.0.1)\n",
      "Installing collected packages: pandas, dask, woodwork, protobuf, distributed, tzdata, stumpy, pyluach, matrixprofile, lunardate, featuretools, backports.zoneinfo, workalendar, tsfresh, sktime, astral\n",
      "  Attempting uninstall: pandas\n",
      "    Found existing installation: pandas 1.2.4\n",
      "    Uninstalling pandas-1.2.4:\n",
      "      Successfully uninstalled pandas-1.2.4\n",
      "  Attempting uninstall: dask\n",
      "    Found existing installation: dask 2021.4.0\n",
      "    Uninstalling dask-2021.4.0:\n",
      "      Successfully uninstalled dask-2021.4.0\n",
      "  Attempting uninstall: protobuf\n",
      "    Found existing installation: protobuf 3.17.2\n",
      "    Uninstalling protobuf-3.17.2:\n",
      "      Successfully uninstalled protobuf-3.17.2\n",
      "  Attempting uninstall: distributed\n",
      "    Found existing installation: distributed 2021.4.0\n",
      "    Uninstalling distributed-2021.4.0:\n",
      "      Successfully uninstalled distributed-2021.4.0\n",
      "Successfully installed astral-2.2 backports.zoneinfo-0.2.1 dask-2021.12.0 distributed-2021.12.0 featuretools-1.1.0 lunardate-0.2.0 matrixprofile-1.1.10 pandas-1.3.5 protobuf-3.11.2 pyluach-1.3.0 sktime-0.8.0 stumpy-1.10.2 tsfresh-0.19.0 tzdata-2021.5 woodwork-0.11.1 workalendar-16.2.0\n",
      "Note: you may need to restart the kernel to use updated packages.\n"
     ]
    },
    {
     "name": "stderr",
     "output_type": "stream",
     "text": [
      "  WARNING: Retrying (Retry(total=4, connect=None, read=None, redirect=None, status=None)) after connection broken by 'ReadTimeoutError(\"HTTPSConnectionPool(host='files.pythonhosted.org', port=443): Read timed out. (read timeout=15)\")': /packages/be/5a/25797ae5c64d4cec1dd02d61b2e00554332472ce99c9659f55c37c8281e2/featuretools-1.1.0-py3-none-any.whl\n",
      "WARNING: featuretools 1.1.0 does not provide the extra 'tsfresh'\n",
      "WARNING: Retrying (Retry(total=4, connect=None, read=None, redirect=None, status=None)) after connection broken by 'ReadTimeoutError(\"HTTPSConnectionPool(host='pypi.org', port=443): Read timed out. (read timeout=15)\")': /simple/protobuf/\n",
      "ERROR: pip's dependency resolver does not currently take into account all the packages that are installed. This behaviour is the source of the following dependency conflicts.\n",
      "tensorflow 2.3.0 requires numpy<1.19.0,>=1.16.0, but you have numpy 1.19.5 which is incompatible.\n",
      "tensorflow 2.3.0 requires scipy==1.4.1, but you have scipy 1.5.4 which is incompatible.\n"
     ]
    }
   ],
   "source": [
    "#pip install -U tsfresh workalendar astral \"featuretools[tsfresh]\" sktime"
   ]
  },
  {
   "cell_type": "markdown",
   "id": "adb2fd01",
   "metadata": {},
   "source": [
    "# Ch 3 Preprocessing of Data"
   ]
  },
  {
   "cell_type": "code",
   "execution_count": 3,
   "id": "d8dad262",
   "metadata": {},
   "outputs": [],
   "source": [
    "import datetime\n",
    "import pandas as pd\n",
    "import matplotlib.pyplot as plt\n",
    "import seaborn as sns\n",
    "from scipy.optimize import minimize\n",
    "import numpy as np"
   ]
  },
  {
   "cell_type": "markdown",
   "id": "74e193a8",
   "metadata": {},
   "source": [
    "# Transformations"
   ]
  },
  {
   "cell_type": "code",
   "execution_count": 4,
   "id": "ef3fd47a",
   "metadata": {},
   "outputs": [],
   "source": [
    "#creating random numbers\n",
    "np.random.seed(0)\n",
    "pts = 10000\n",
    "vals = np.random.lognormal(0, 1.0, pts)"
   ]
  },
  {
   "cell_type": "code",
   "execution_count": 5,
   "id": "3ab9c41f",
   "metadata": {},
   "outputs": [
    {
     "data": {
      "image/png": "[encoded data removed]",
      "text/plain": [
       "<Figure size 432x288 with 1 Axes>"
      ]
     },
     "metadata": {
      "needs_background": "light"
     },
     "output_type": "display_data"
    }
   ],
   "source": [
    "#create histogram\n",
    "plt.hist(vals, bins=20, density=True)\n",
    "plt.yscale(\"log\")\n",
    "plt.ylabel(\"frequency\")\n",
    "plt.xlabel(\"value range\");"
   ]
  },
  {
   "cell_type": "code",
   "execution_count": 6,
   "id": "3fdcffa8",
   "metadata": {},
   "outputs": [
    {
     "name": "stdout",
     "output_type": "stream",
     "text": [
      "significance: 0.00\n"
     ]
    }
   ],
   "source": [
    "#to test for standardization using z-scores\n",
    "from sklearn.preprocessing import minmax_scale\n",
    "from sklearn.preprocessing import StandardScaler\n",
    "from scipy.stats import normaltest\n",
    "\n",
    "vals_mm = minmax_scale(vals)\n",
    "scaler = StandardScaler()\n",
    "vals_ss = scaler.fit_transform(vals.reshape(-1, 1))\n",
    "_, p = normaltest(vals_ss.squeeze())\n",
    "print(f\"significance: {p:.2f}\")"
   ]
  },
  {
   "cell_type": "code",
   "execution_count": 7,
   "id": "1d63884f",
   "metadata": {},
   "outputs": [],
   "source": [
    "#Null hypothesis: The sample comes from a normal distribution. \n",
    "#Alternative hypothesis: The sample is not normally distributed\n",
    "\n",
    "#here, p-value is 0.00, which is significant, so we can reject the null hypothsesis\n",
    "#and accept the alternative, that the sample is not normally distributed (which you can see in the histogram)"
   ]
  },
  {
   "cell_type": "code",
   "execution_count": 8,
   "id": "2bc76c52",
   "metadata": {},
   "outputs": [
    {
     "name": "stdout",
     "output_type": "stream",
     "text": [
      "significance: 0.00\n"
     ]
    }
   ],
   "source": [
    "#using another test with the min and max transformation...\n",
    "_, p = normaltest(vals_mm.squeeze())\n",
    "print(f\"significance: {p:.2f}\")"
   ]
  },
  {
   "cell_type": "code",
   "execution_count": 9,
   "id": "868c9c4d",
   "metadata": {},
   "outputs": [],
   "source": [
    "#...And we reach the same conclusion: not normally distributed"
   ]
  },
  {
   "cell_type": "code",
   "execution_count": 10,
   "id": "8959b67f",
   "metadata": {},
   "outputs": [
    {
     "name": "stdout",
     "output_type": "stream",
     "text": [
      "significance: 0.46\n"
     ]
    }
   ],
   "source": [
    "#to use a log transformation\n",
    "log_transformed = np.log(vals)\n",
    "_, p = normaltest(log_transformed)\n",
    "print(f\"significance: {p:.2f}\")"
   ]
  },
  {
   "cell_type": "code",
   "execution_count": 11,
   "id": "1627abfc",
   "metadata": {},
   "outputs": [],
   "source": [
    "#When we do a log transformation, we can't reject the null hypothesis (that there is normal distribution)\n",
    "# because the p-value, at 0.46, is not significant"
   ]
  },
  {
   "cell_type": "code",
   "execution_count": 19,
   "id": "73e3affd",
   "metadata": {},
   "outputs": [
    {
     "data": {
      "image/png": "[encoded data removed]",
      "text/plain": [
       "<Figure size 432x288 with 1 Axes>"
      ]
     },
     "metadata": {
      "needs_background": "light"
     },
     "output_type": "display_data"
    }
   ],
   "source": [
    "#to show a histogram of the log transformed data\n",
    "plt.hist(log_transformed, bins=20, density=True)\n",
    "plt.ylabel(\"frequency\")\n",
    "plt.xlabel(\"value range\");"
   ]
  },
  {
   "cell_type": "code",
   "execution_count": 20,
   "id": "2dbb147d",
   "metadata": {},
   "outputs": [
    {
     "name": "stdout",
     "output_type": "stream",
     "text": [
      "significance: 0.46\n"
     ]
    }
   ],
   "source": [
    "#apply Box-Cox transformation:\n",
    "from scipy.stats import boxcox\n",
    "vals_bc = boxcox(vals, 0.0)\n",
    "_, p = normaltest(vals_bc)\n",
    "print(f\"significance: {p:.2f}\")"
   ]
  },
  {
   "cell_type": "code",
   "execution_count": 21,
   "id": "4058e666",
   "metadata": {},
   "outputs": [
    {
     "data": {
      "image/png": "[encoded data removed]",
      "text/plain": [
       "<Figure size 432x288 with 1 Axes>"
      ]
     },
     "metadata": {
      "needs_background": "light"
     },
     "output_type": "display_data"
    }
   ],
   "source": [
    "plt.hist(vals_bc, bins=20, density=True)\n",
    "plt.ylabel(\"frequency\")\n",
    "plt.xlabel(\"value range\");"
   ]
  },
  {
   "cell_type": "code",
   "execution_count": null,
   "id": "ef17e2fb",
   "metadata": {},
   "outputs": [],
   "source": [
    "#Box-cox significance is 0.46 and the histogram is showing normal distribution"
   ]
  }
 ],
 "metadata": {
  "kernelspec": {
   "display_name": "Python 3",
   "language": "python",
   "name": "python3"
  },
  "language_info": {
   "codemirror_mode": {
    "name": "ipython",
    "version": 3
   },
   "file_extension": ".py",
   "mimetype": "text/x-python",
   "name": "python",
   "nbconvert_exporter": "python",
   "pygments_lexer": "ipython3",
   "version": "3.8.8"
  }
 },
 "nbformat": 4,
 "nbformat_minor": 5
}
