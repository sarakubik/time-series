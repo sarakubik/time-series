{
 "cells": [
  {
   "cell_type": "markdown",
   "id": "21f8b914",
   "metadata": {},
   "source": [
    "# Ch 7 K-nearest neighbors with dynamic\n",
    "# time warping"
   ]
  },
  {
   "cell_type": "code",
   "execution_count": null,
   "id": "659f32e3",
   "metadata": {},
   "outputs": [],
   "source": [
    "#pip install tsfresh tslearn"
   ]
  },
  {
   "cell_type": "code",
   "execution_count": 10,
   "id": "2f6adbe2",
   "metadata": {},
   "outputs": [],
   "source": [
    "import pandas as pd\n",
    "import matplotlib.pyplot as plt\n",
    "\n",
    "plt.style.use('seaborn-whitegrid')\n",
    "plt.rcParams[\"font.family\"] = \"Times New Roman\"\n",
    "plt.rcParams[\"font.size\"] = \"17\""
   ]
  },
  {
   "cell_type": "code",
   "execution_count": 1,
   "id": "3ffd0c5f",
   "metadata": {},
   "outputs": [],
   "source": [
    "# download dataset of robotic execution faiures from UCI machine learning repository\n",
    "# dataset has force and torque measurements from a robot after a failure was detected\n",
    "from tsfresh.examples import load_robot_execution_failures\n",
    "from tsfresh.examples.robot_execution_failures import download_robot_execution_failures\n",
    "\n",
    "download_robot_execution_failures()\n",
    "df_ts, y = load_robot_execution_failures()"
   ]
  },
  {
   "cell_type": "code",
   "execution_count": 2,
   "id": "7eda6e1a",
   "metadata": {},
   "outputs": [
    {
     "name": "stdout",
     "output_type": "stream",
     "text": [
      "0.24\n"
     ]
    }
   ],
   "source": [
    "print(f\"{y.mean():.2f}\")"
   ]
  },
  {
   "cell_type": "code",
   "execution_count": 3,
   "id": "c23b2b6c",
   "metadata": {},
   "outputs": [],
   "source": [
    "#columns include the time and six time-series with signals from the sensors,\n",
    "#F_x, F_y, F_z, T_x, T_y, and T_z. \n",
    "# The target variable, y, is True or False, indicates if there was a failure"
   ]
  },
  {
   "cell_type": "code",
   "execution_count": 4,
   "id": "c731abc4",
   "metadata": {},
   "outputs": [
    {
     "data": {
      "text/html": [
       "<div>\n",
       "<style scoped>\n",
       "    .dataframe tbody tr th:only-of-type {\n",
       "        vertical-align: middle;\n",
       "    }\n",
       "\n",
       "    .dataframe tbody tr th {\n",
       "        vertical-align: top;\n",
       "    }\n",
       "\n",
       "    .dataframe thead th {\n",
       "        text-align: right;\n",
       "    }\n",
       "</style>\n",
       "<table border=\"1\" class=\"dataframe\">\n",
       "  <thead>\n",
       "    <tr style=\"text-align: right;\">\n",
       "      <th></th>\n",
       "      <th>id</th>\n",
       "      <th>time</th>\n",
       "      <th>F_x</th>\n",
       "      <th>F_y</th>\n",
       "      <th>F_z</th>\n",
       "      <th>T_x</th>\n",
       "      <th>T_y</th>\n",
       "      <th>T_z</th>\n",
       "    </tr>\n",
       "  </thead>\n",
       "  <tbody>\n",
       "    <tr>\n",
       "      <th>0</th>\n",
       "      <td>1</td>\n",
       "      <td>0</td>\n",
       "      <td>-1</td>\n",
       "      <td>-1</td>\n",
       "      <td>63</td>\n",
       "      <td>-3</td>\n",
       "      <td>-1</td>\n",
       "      <td>0</td>\n",
       "    </tr>\n",
       "    <tr>\n",
       "      <th>1</th>\n",
       "      <td>1</td>\n",
       "      <td>1</td>\n",
       "      <td>0</td>\n",
       "      <td>0</td>\n",
       "      <td>62</td>\n",
       "      <td>-3</td>\n",
       "      <td>-1</td>\n",
       "      <td>0</td>\n",
       "    </tr>\n",
       "    <tr>\n",
       "      <th>2</th>\n",
       "      <td>1</td>\n",
       "      <td>2</td>\n",
       "      <td>-1</td>\n",
       "      <td>-1</td>\n",
       "      <td>61</td>\n",
       "      <td>-3</td>\n",
       "      <td>0</td>\n",
       "      <td>0</td>\n",
       "    </tr>\n",
       "    <tr>\n",
       "      <th>3</th>\n",
       "      <td>1</td>\n",
       "      <td>3</td>\n",
       "      <td>-1</td>\n",
       "      <td>-1</td>\n",
       "      <td>63</td>\n",
       "      <td>-2</td>\n",
       "      <td>-1</td>\n",
       "      <td>0</td>\n",
       "    </tr>\n",
       "    <tr>\n",
       "      <th>4</th>\n",
       "      <td>1</td>\n",
       "      <td>4</td>\n",
       "      <td>-1</td>\n",
       "      <td>-1</td>\n",
       "      <td>63</td>\n",
       "      <td>-3</td>\n",
       "      <td>-1</td>\n",
       "      <td>0</td>\n",
       "    </tr>\n",
       "  </tbody>\n",
       "</table>\n",
       "</div>"
      ],
      "text/plain": [
       "   id  time  F_x  F_y  F_z  T_x  T_y  T_z\n",
       "0   1     0   -1   -1   63   -3   -1    0\n",
       "1   1     1    0    0   62   -3   -1    0\n",
       "2   1     2   -1   -1   61   -3    0    0\n",
       "3   1     3   -1   -1   63   -2   -1    0\n",
       "4   1     4   -1   -1   63   -3   -1    0"
      ]
     },
     "execution_count": 4,
     "metadata": {},
     "output_type": "execute_result"
    }
   ],
   "source": [
    "df_ts.head()"
   ]
  },
  {
   "cell_type": "code",
   "execution_count": 11,
   "id": "042448b9",
   "metadata": {},
   "outputs": [
    {
     "name": "stderr",
     "output_type": "stream",
     "text": [
      "Feature Extraction: 100%|██████████████████████████████████████████████████████████████| 10/10 [00:17<00:00,  1.74s/it]\n",
      "C:\\Users\\hp\\anaconda3\\lib\\site-packages\\tsfresh\\utilities\\dataframe_functions.py:198: RuntimeWarning: The columns ['F_x__partial_autocorrelation__lag_7'\n",
      " 'F_x__partial_autocorrelation__lag_8'\n",
      " 'F_x__partial_autocorrelation__lag_9' ...\n",
      " 'T_z__matrix_profile__feature_\"median\"__threshold_0.98'\n",
      " 'T_z__matrix_profile__feature_\"25\"__threshold_0.98'\n",
      " 'T_z__matrix_profile__feature_\"75\"__threshold_0.98'] did not have any finite values. Filling with zeros.\n",
      "  warnings.warn(\n"
     ]
    }
   ],
   "source": [
    "#extract time-series features using TSFresh\n",
    "# impute missing values and select features based on relevance to the target.\n",
    "#the p-value from a statistical test is used to calculate the feature significance:\n",
    "from tsfresh import extract_features\n",
    "from tsfresh import select_features\n",
    "from tsfresh.utilities.dataframe_functions import impute\n",
    "\n",
    "extracted_features = impute(extract_features(df_ts, column_id=\"id\", column_sort=\"time\"))\n",
    "features_filtered = select_features(extracted_features, y)"
   ]
  },
  {
   "cell_type": "code",
   "execution_count": 13,
   "id": "ac78d99c",
   "metadata": {},
   "outputs": [
    {
     "name": "stderr",
     "output_type": "stream",
     "text": [
      "Feature Extraction: 100%|██████████████████████████████████████████████████████████████| 10/10 [00:04<00:00,  2.27it/s]\n",
      "C:\\Users\\hp\\anaconda3\\lib\\site-packages\\tsfresh\\utilities\\dataframe_functions.py:198: RuntimeWarning: The columns ['T_x__partial_autocorrelation__lag_7'\n",
      " 'T_x__partial_autocorrelation__lag_8'\n",
      " 'T_x__partial_autocorrelation__lag_9' ...\n",
      " 'F_z__matrix_profile__feature_\"median\"__threshold_0.98'\n",
      " 'F_z__matrix_profile__feature_\"25\"__threshold_0.98'\n",
      " 'F_z__matrix_profile__feature_\"75\"__threshold_0.98'] did not have any finite values. Filling with zeros.\n",
      "  warnings.warn(\n",
      "Feature Extraction: 100%|██████████████████████████████████████████████████████████████| 10/10 [00:03<00:00,  2.79it/s]\n"
     ]
    }
   ],
   "source": [
    "from tsfresh.transformers import RelevantFeatureAugmenter\n",
    "import pandas as pd\n",
    "\n",
    "X = pd.DataFrame(index=y.index)\n",
    "TRAINING_SIZE = (len(X) // 10) * 8\n",
    "augmenter = RelevantFeatureAugmenter(column_id='id', column_sort='time')\n",
    "augmenter.set_timeseries_container(df_ts[:TRAINING_SIZE])\n",
    "augmenter.fit(X[:TRAINING_SIZE], y[:TRAINING_SIZE])\n",
    "X_transformed = augmenter.transform(X)"
   ]
  },
  {
   "cell_type": "code",
   "execution_count": 14,
   "id": "48c1a68b",
   "metadata": {},
   "outputs": [
    {
     "data": {
      "text/plain": [
       "GridSearchCV(cv=TimeSeriesSplit(gap=0, max_train_size=None, n_splits=2, test_size=None),\n",
       "             estimator=KNeighborsTimeSeriesClassifier(),\n",
       "             param_grid={'metric': ['dtw'], 'n_neighbors': [1, 2, 3]})"
      ]
     },
     "execution_count": 14,
     "metadata": {},
     "output_type": "execute_result"
    }
   ],
   "source": [
    "from sklearn.model_selection import TimeSeriesSplit, GridSearchCV\n",
    "from tslearn.neighbors import KNeighborsTimeSeriesClassifier\n",
    "\n",
    "knn = KNeighborsTimeSeriesClassifier()\n",
    "param_search = {\n",
    "    'metric' : ['dtw'],  # ctw', 'dtw', \"softdtw\"], # TSLEARN_VALID_METRICS}\n",
    "    'n_neighbors': [1, 2, 3]\n",
    "}\n",
    "#  'param_grid': {'metric': ['ctw', 'dtw', 'gak', 'sax', 'softdtw', 'lcss']},\n",
    "tscv = TimeSeriesSplit(n_splits=2)\n",
    "\n",
    "gsearch = GridSearchCV(\n",
    "    estimator=knn,\n",
    "    cv=tscv,\n",
    "    param_grid=param_search\n",
    ")\n",
    "gsearch.fit(\n",
    "    features_filtered,\n",
    "    y\n",
    ")"
   ]
  },
  {
   "cell_type": "code",
   "execution_count": 15,
   "id": "468c56ed",
   "metadata": {},
   "outputs": [],
   "source": [
    "import seaborn as sns\n",
    "import pandas as pd\n",
    "\n",
    "def plot_cv_results(cv_results, param_x, param_z, metric='mean_test_score'):\n",
    "    \"\"\"\n",
    "    cv_results - cv_results_ attribute of a GridSearchCV instance (or similar)\n",
    "    param_x - name of grid search parameter to plot on x axis\n",
    "    param_z - name of grid search parameter to plot by line color\n",
    "    \"\"\"\n",
    "    cv_results = pd.DataFrame(cv_results)\n",
    "    col_x = 'param_' + param_x\n",
    "    col_z = 'param_' + param_z\n",
    "    fig, ax = plt.subplots(1, 1, figsize=(11, 8))\n",
    "    sns.pointplot(x=col_x, y=metric, hue=col_z, data=cv_results, ci=99, n_boot=64, ax=ax)\n",
    "    ax.set_title(\"CV Grid Search Results\")\n",
    "    ax.set_xlabel(param_x)\n",
    "    ax.set_ylabel(metric)\n",
    "    ax.legend(title=param_z)\n",
    "    return fig"
   ]
  },
  {
   "cell_type": "code",
   "execution_count": 16,
   "id": "dc46a650",
   "metadata": {},
   "outputs": [
    {
     "data": {
      "image/png": "[encoded data removed]",
      "text/plain": [
       "<Figure size 792x576 with 1 Axes>"
      ]
     },
     "metadata": {},
     "output_type": "display_data"
    }
   ],
   "source": [
    "fig = plot_cv_results(gsearch.cv_results_, 'metric', 'n_neighbors')"
   ]
  },
  {
   "cell_type": "code",
   "execution_count": null,
   "id": "dc5bdd59",
   "metadata": {},
   "outputs": [],
   "source": []
  }
 ],
 "metadata": {
  "kernelspec": {
   "display_name": "Python 3",
   "language": "python",
   "name": "python3"
  },
  "language_info": {
   "codemirror_mode": {
    "name": "ipython",
    "version": 3
   },
   "file_extension": ".py",
   "mimetype": "text/x-python",
   "name": "python",
   "nbconvert_exporter": "python",
   "pygments_lexer": "ipython3",
   "version": "3.8.8"
  }
 },
 "nbformat": 4,
 "nbformat_minor": 5
}
