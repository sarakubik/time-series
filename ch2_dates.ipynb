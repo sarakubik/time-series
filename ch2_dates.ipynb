{
 "cells": [
  {
   "cell_type": "markdown",
   "id": "d071f9b3",
   "metadata": {},
   "source": [
    "# Chapter 2"
   ]
  },
  {
   "cell_type": "code",
   "execution_count": 2,
   "id": "5b67d3d3",
   "metadata": {},
   "outputs": [],
   "source": [
    "#pip install dython"
   ]
  },
  {
   "cell_type": "code",
   "execution_count": 6,
   "id": "0eeaf903",
   "metadata": {},
   "outputs": [],
   "source": [
    "from datetime import date, datetime"
   ]
  },
  {
   "cell_type": "code",
   "execution_count": 4,
   "id": "984e966d",
   "metadata": {},
   "outputs": [],
   "source": [
    "#to get today's date\n",
    "today = date.today()"
   ]
  },
  {
   "cell_type": "code",
   "execution_count": 5,
   "id": "733c5938",
   "metadata": {},
   "outputs": [
    {
     "name": "stdout",
     "output_type": "stream",
     "text": [
      "2022-01-06\n"
     ]
    }
   ],
   "source": [
    "print(today)"
   ]
  },
  {
   "cell_type": "code",
   "execution_count": 7,
   "id": "6683aaa4",
   "metadata": {},
   "outputs": [
    {
     "name": "stdout",
     "output_type": "stream",
     "text": [
      "2022-01-06 11:49:55.574550\n"
     ]
    }
   ],
   "source": [
    "#to get a timestamp\n",
    "now = datetime.now()\n",
    "print(now)"
   ]
  },
  {
   "cell_type": "code",
   "execution_count": 8,
   "id": "fbd3f9bc",
   "metadata": {},
   "outputs": [
    {
     "data": {
      "text/plain": [
       "'2022-01-06T11:49:55.574550'"
      ]
     },
     "execution_count": 8,
     "metadata": {},
     "output_type": "execute_result"
    }
   ],
   "source": [
    "#to get the ISO 8601 format for dates and times\n",
    "now.isoformat()"
   ]
  },
  {
   "cell_type": "code",
   "execution_count": 10,
   "id": "579d6a4f",
   "metadata": {},
   "outputs": [
    {
     "data": {
      "text/plain": [
       "'Thursday January 06, 2022'"
      ]
     },
     "execution_count": 10,
     "metadata": {},
     "output_type": "execute_result"
    }
   ],
   "source": [
    "#to get string format of dates\n",
    "now.strftime('%A %B %d, %Y')"
   ]
  },
  {
   "cell_type": "code",
   "execution_count": 11,
   "id": "d2121fb4",
   "metadata": {},
   "outputs": [],
   "source": [
    "#more ways to format dates are here https://strftime.org"
   ]
  },
  {
   "cell_type": "code",
   "execution_count": 13,
   "id": "1ed4c7f9",
   "metadata": {},
   "outputs": [
    {
     "data": {
      "text/plain": [
       "'06/01/2022'"
      ]
     },
     "execution_count": 13,
     "metadata": {},
     "output_type": "execute_result"
    }
   ],
   "source": [
    "now.strftime('%d/%m/%Y')"
   ]
  },
  {
   "cell_type": "markdown",
   "id": "30df6b80",
   "metadata": {},
   "source": [
    "# Creating time-series data"
   ]
  },
  {
   "cell_type": "code",
   "execution_count": 14,
   "id": "3155f12b",
   "metadata": {},
   "outputs": [
    {
     "data": {
      "text/plain": [
       "DatetimeIndex(['2021-03-24', '2021-03-25', '2021-03-26', '2021-03-27',\n",
       "               '2021-03-28', '2021-03-29', '2021-03-30', '2021-03-31',\n",
       "               '2021-04-01', '2021-04-02',\n",
       "               ...\n",
       "               '2021-08-23', '2021-08-24', '2021-08-25', '2021-08-26',\n",
       "               '2021-08-27', '2021-08-28', '2021-08-29', '2021-08-30',\n",
       "               '2021-08-31', '2021-09-01'],\n",
       "              dtype='datetime64[ns]', length=162, freq='D')"
      ]
     },
     "execution_count": 14,
     "metadata": {},
     "output_type": "execute_result"
    }
   ],
   "source": [
    "import pandas as pd\n",
    "pd.date_range(start='2021-03-24', end='2021-09-01')"
   ]
  },
  {
   "cell_type": "code",
   "execution_count": 16,
   "id": "2b1d720c",
   "metadata": {},
   "outputs": [
    {
     "data": {
      "text/plain": [
       "0   2021-01-01\n",
       "1   2021-01-02\n",
       "2   2021-01-03\n",
       "3   2021-01-04\n",
       "4   2021-01-05\n",
       "5   2021-01-06\n",
       "6   2021-01-07\n",
       "7   2021-01-08\n",
       "8   2021-01-09\n",
       "9   2021-01-10\n",
       "dtype: datetime64[ns]"
      ]
     },
     "execution_count": 16,
     "metadata": {},
     "output_type": "execute_result"
    }
   ],
   "source": [
    "#Time series that increases by one day\n",
    "pd.Series(pd.date_range(\"2021\", freq=\"D\", periods=10))"
   ]
  },
  {
   "cell_type": "code",
   "execution_count": 17,
   "id": "e3d11c86",
   "metadata": {},
   "outputs": [],
   "source": [
    "#creating 2 time-series\n",
    "df = pd.DataFrame({'year': [2021, 2022],\n",
    "'month': [3, 4],\n",
    "'day': [24, 25]}\n",
    ")\n",
    "ts1 = pd.to_datetime(df)\n",
    "ts2 = pd.to_datetime('20210324', format='%Y%m%d')"
   ]
  },
  {
   "cell_type": "code",
   "execution_count": 18,
   "id": "87bf3772",
   "metadata": {},
   "outputs": [
    {
     "data": {
      "text/plain": [
       "0     NaN\n",
       "1     NaN\n",
       "2     6.0\n",
       "3     9.0\n",
       "4    12.0\n",
       "dtype: float64"
      ]
     },
     "execution_count": 18,
     "metadata": {},
     "output_type": "execute_result"
    }
   ],
   "source": [
    "s = pd.Series([1,2,3,4,5])\n",
    "s.rolling(3).sum()"
   ]
  },
  {
   "cell_type": "code",
   "execution_count": null,
   "id": "cc70407c",
   "metadata": {},
   "outputs": [],
   "source": []
  }
 ],
 "metadata": {
  "kernelspec": {
   "display_name": "Python 3",
   "language": "python",
   "name": "python3"
  },
  "language_info": {
   "codemirror_mode": {
    "name": "ipython",
    "version": 3
   },
   "file_extension": ".py",
   "mimetype": "text/x-python",
   "name": "python",
   "nbconvert_exporter": "python",
   "pygments_lexer": "ipython3",
   "version": "3.8.8"
  }
 },
 "nbformat": 4,
 "nbformat_minor": 5
}
