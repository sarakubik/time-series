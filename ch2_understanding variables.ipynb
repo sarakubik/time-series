{
 "cells": [
  {
   "cell_type": "markdown",
   "id": "4a1742be",
   "metadata": {},
   "source": [
    "# Chapter 2 Understanding Variables"
   ]
  },
  {
   "cell_type": "code",
   "execution_count": 1,
   "id": "62dbea17",
   "metadata": {},
   "outputs": [],
   "source": [
    "import datetime\n",
    "import pandas as pd\n",
    "import matplotlib.pyplot as plt\n",
    "import seaborn as sns"
   ]
  },
  {
   "cell_type": "code",
   "execution_count": 2,
   "id": "f98dfa53",
   "metadata": {},
   "outputs": [],
   "source": [
    "# In pandas you can pass the url directly into read_csv()\n",
    "pollution = pd.read_csv(\n",
    "    'https://raw.githubusercontent.com/owid/owid-datasets/master/datasets/Air%20pollution%20by%20city%20-%20Fouquet%20and%20DPCC%20(2011)/Air%20pollution%20by%20city%20-%20Fouquet%20and%20DPCC%20(2011).csv'\n",
    ")"
   ]
  },
  {
   "cell_type": "code",
   "execution_count": 3,
   "id": "a8c50f27",
   "metadata": {},
   "outputs": [
    {
     "data": {
      "text/plain": [
       "331"
      ]
     },
     "execution_count": 3,
     "metadata": {},
     "output_type": "execute_result"
    }
   ],
   "source": [
    "len(pollution)"
   ]
  },
  {
   "cell_type": "code",
   "execution_count": 4,
   "id": "03413b1b",
   "metadata": {},
   "outputs": [
    {
     "data": {
      "text/plain": [
       "Index(['Entity', 'Year', 'Smoke (Fouquet and DPCC (2011))',\n",
       "       'Suspended Particulate Matter (SPM) (Fouquet and DPCC (2011))'],\n",
       "      dtype='object')"
      ]
     },
     "execution_count": 4,
     "metadata": {},
     "output_type": "execute_result"
    }
   ],
   "source": [
    "pollution.columns"
   ]
  },
  {
   "cell_type": "code",
   "execution_count": 5,
   "id": "47c8b90f",
   "metadata": {},
   "outputs": [
    {
     "data": {
      "text/plain": [
       "City      object\n",
       "Year       int64\n",
       "Smoke    float64\n",
       "SPM      float64\n",
       "dtype: object"
      ]
     },
     "execution_count": 5,
     "metadata": {},
     "output_type": "execute_result"
    }
   ],
   "source": [
    "#rename the columns\n",
    "pollution = pollution.rename(\n",
    "    columns={\n",
    "    'Suspended Particulate Matter (SPM) (Fouquet and DPCC (2011))': 'SPM',\n",
    "    'Smoke (Fouquet and DPCC (2011))' : 'Smoke',\n",
    "    'Entity': 'City'\n",
    "    }\n",
    ")\n",
    "pollution.dtypes"
   ]
  },
  {
   "cell_type": "code",
   "execution_count": 6,
   "id": "5ce851d8",
   "metadata": {},
   "outputs": [
    {
     "data": {
      "text/plain": [
       "(1700, 2016)"
      ]
     },
     "execution_count": 6,
     "metadata": {},
     "output_type": "execute_result"
    }
   ],
   "source": [
    "#minimum and maximum years\n",
    "pollution.Year.min(), pollution.Year.max()"
   ]
  },
  {
   "cell_type": "code",
   "execution_count": 7,
   "id": "bf5185ee",
   "metadata": {},
   "outputs": [
    {
     "data": {
      "text/plain": [
       "array(['Delhi', 'London'], dtype=object)"
      ]
     },
     "execution_count": 7,
     "metadata": {},
     "output_type": "execute_result"
    }
   ],
   "source": [
    "#finding out the values in the City column\n",
    "pollution.City.unique()"
   ]
  },
  {
   "cell_type": "code",
   "execution_count": 8,
   "id": "504cc947",
   "metadata": {},
   "outputs": [],
   "source": [
    "#Our dataset has two cities, Delhi and London, and \n",
    "#has a time period of 1700 - 2016\n"
   ]
  },
  {
   "cell_type": "code",
   "execution_count": 9,
   "id": "bd9b161a",
   "metadata": {},
   "outputs": [
    {
     "data": {
      "text/plain": [
       "City             object\n",
       "Year     datetime64[ns]\n",
       "Smoke           float64\n",
       "SPM             float64\n",
       "dtype: object"
      ]
     },
     "execution_count": 9,
     "metadata": {},
     "output_type": "execute_result"
    }
   ],
   "source": [
    "#We need to convert Year column from int64 to datetime to help with plotting\n",
    "pollution['Year'] = pollution['Year'].apply(\n",
    "    lambda x: datetime.datetime.strptime(str(x), '%Y')\n",
    ")\n",
    "pollution.dtypes"
   ]
  },
  {
   "cell_type": "markdown",
   "id": "126f517c",
   "metadata": {},
   "source": [
    "# Dealing with Missing Data\n"
   ]
  },
  {
   "cell_type": "code",
   "execution_count": 11,
   "id": "bd09e05a",
   "metadata": {},
   "outputs": [
    {
     "data": {
      "text/plain": [
       "City      0\n",
       "Year      0\n",
       "Smoke    30\n",
       "SPM       0\n",
       "dtype: int64"
      ]
     },
     "execution_count": 11,
     "metadata": {},
     "output_type": "execute_result"
    }
   ],
   "source": [
    "#to look for missing values in each column\n",
    "pollution.isnull().sum()"
   ]
  },
  {
   "cell_type": "code",
   "execution_count": 12,
   "id": "a5e063cd",
   "metadata": {},
   "outputs": [
    {
     "data": {
      "text/plain": [
       "<AxesSubplot:>"
      ]
     },
     "execution_count": 12,
     "metadata": {},
     "output_type": "execute_result"
    },
    {
     "data": {
      "image/png": "[encoded data removed]",
      "text/plain": [
       "<Figure size 1440x432 with 1 Axes>"
      ]
     },
     "metadata": {
      "needs_background": "light"
     },
     "output_type": "display_data"
    }
   ],
   "source": [
    "#to visually see the missing cells -- I kind-a love this!\n",
    "plt.figure(figsize=(20, 6))\n",
    "sns.heatmap(pollution.isnull(),yticklabels=False,cbar=False,cmap='viridis')"
   ]
  },
  {
   "cell_type": "markdown",
   "id": "568c0de8",
   "metadata": {},
   "source": [
    "## 1. To delete rows with missing values\n",
    "### Either do this, or jump to \n",
    "### 2. Imputing the mean, \n",
    "### or 3. Putting in 0's"
   ]
  },
  {
   "cell_type": "code",
   "execution_count": 18,
   "id": "c349dd09",
   "metadata": {},
   "outputs": [
    {
     "name": "stdout",
     "output_type": "stream",
     "text": [
      "(331, 4)\n",
      "(317, 4)\n"
     ]
    }
   ],
   "source": [
    "print(pollution.shape)\n",
    "\n",
    "# delete rows with missing values\n",
    "pollution.dropna(inplace=True)\n",
    "\n",
    "# summarize the shape of the data with missing rows removed\n",
    "print(pollution.shape)"
   ]
  },
  {
   "cell_type": "code",
   "execution_count": 19,
   "id": "8057bafe",
   "metadata": {},
   "outputs": [
    {
     "data": {
      "text/plain": [
       "<AxesSubplot:>"
      ]
     },
     "execution_count": 19,
     "metadata": {},
     "output_type": "execute_result"
    },
    {
     "data": {
      "image/png": "[encoded data removed]",
      "text/plain": [
       "<Figure size 1440x432 with 1 Axes>"
      ]
     },
     "metadata": {
      "needs_background": "light"
     },
     "output_type": "display_data"
    }
   ],
   "source": [
    "plt.figure(figsize=(20, 6))\n",
    "sns.heatmap(pollution.isnull(),yticklabels=False,cbar=False,cmap='viridis')"
   ]
  },
  {
   "cell_type": "markdown",
   "id": "c6b5e2f2",
   "metadata": {},
   "source": [
    "# 2. Imputing the mean into the missing cells"
   ]
  },
  {
   "cell_type": "code",
   "execution_count": null,
   "id": "7e8e4d83",
   "metadata": {},
   "outputs": [],
   "source": [
    "pollution.fillna(pollution.mean(), inplace=True)\n",
    "# count the number of NaN values in each column\n",
    "print(pollution.isnull().sum())"
   ]
  },
  {
   "cell_type": "code",
   "execution_count": null,
   "id": "0291a35e",
   "metadata": {},
   "outputs": [],
   "source": [
    "print(pollution.shape)"
   ]
  },
  {
   "cell_type": "markdown",
   "id": "f1debb7f",
   "metadata": {},
   "source": [
    "# 3. Fill missing values with 0s"
   ]
  },
  {
   "cell_type": "code",
   "execution_count": null,
   "id": "2fd81a53",
   "metadata": {},
   "outputs": [],
   "source": [
    "#look for the column name that had missing data - here it was \"Smoke\"\n",
    "pollution.isnull().sum()"
   ]
  },
  {
   "cell_type": "code",
   "execution_count": null,
   "id": "8cc51087",
   "metadata": {},
   "outputs": [],
   "source": [
    "pollution['Smoke'] = pollution['Smoke'].fillna(0)"
   ]
  },
  {
   "cell_type": "code",
   "execution_count": null,
   "id": "d7e8567f",
   "metadata": {},
   "outputs": [],
   "source": [
    "pollution.isnull().sum()"
   ]
  },
  {
   "cell_type": "markdown",
   "id": "6a021d23",
   "metadata": {},
   "source": [
    "# Descriptive Statistics"
   ]
  },
  {
   "cell_type": "code",
   "execution_count": 20,
   "id": "b849a931",
   "metadata": {},
   "outputs": [
    {
     "data": {
      "text/html": [
       "<div>\n",
       "<style scoped>\n",
       "    .dataframe tbody tr th:only-of-type {\n",
       "        vertical-align: middle;\n",
       "    }\n",
       "\n",
       "    .dataframe tbody tr th {\n",
       "        vertical-align: top;\n",
       "    }\n",
       "\n",
       "    .dataframe thead th {\n",
       "        text-align: right;\n",
       "    }\n",
       "</style>\n",
       "<table border=\"1\" class=\"dataframe\">\n",
       "  <thead>\n",
       "    <tr style=\"text-align: right;\">\n",
       "      <th></th>\n",
       "      <th>Smoke</th>\n",
       "      <th>SPM</th>\n",
       "    </tr>\n",
       "  </thead>\n",
       "  <tbody>\n",
       "    <tr>\n",
       "      <th>count</th>\n",
       "      <td>317.000000</td>\n",
       "      <td>317.000000</td>\n",
       "    </tr>\n",
       "    <tr>\n",
       "      <th>mean</th>\n",
       "      <td>200.376115</td>\n",
       "      <td>364.069673</td>\n",
       "    </tr>\n",
       "    <tr>\n",
       "      <th>std</th>\n",
       "      <td>96.437580</td>\n",
       "      <td>175.831376</td>\n",
       "    </tr>\n",
       "    <tr>\n",
       "      <th>min</th>\n",
       "      <td>13.750000</td>\n",
       "      <td>15.000000</td>\n",
       "    </tr>\n",
       "    <tr>\n",
       "      <th>25%</th>\n",
       "      <td>154.285714</td>\n",
       "      <td>280.519480</td>\n",
       "    </tr>\n",
       "    <tr>\n",
       "      <th>50%</th>\n",
       "      <td>205.357143</td>\n",
       "      <td>373.376623</td>\n",
       "    </tr>\n",
       "    <tr>\n",
       "      <th>75%</th>\n",
       "      <td>286.714286</td>\n",
       "      <td>521.298701</td>\n",
       "    </tr>\n",
       "    <tr>\n",
       "      <th>max</th>\n",
       "      <td>342.857143</td>\n",
       "      <td>623.376623</td>\n",
       "    </tr>\n",
       "  </tbody>\n",
       "</table>\n",
       "</div>"
      ],
      "text/plain": [
       "            Smoke         SPM\n",
       "count  317.000000  317.000000\n",
       "mean   200.376115  364.069673\n",
       "std     96.437580  175.831376\n",
       "min     13.750000   15.000000\n",
       "25%    154.285714  280.519480\n",
       "50%    205.357143  373.376623\n",
       "75%    286.714286  521.298701\n",
       "max    342.857143  623.376623"
      ]
     },
     "execution_count": 20,
     "metadata": {},
     "output_type": "execute_result"
    }
   ],
   "source": [
    "pollution.describe()"
   ]
  },
  {
   "cell_type": "code",
   "execution_count": 21,
   "id": "b260ebe0",
   "metadata": {},
   "outputs": [
    {
     "data": {
      "text/plain": [
       "Text(0, 0.5, 'Frequency')"
      ]
     },
     "execution_count": 21,
     "metadata": {},
     "output_type": "execute_result"
    },
    {
     "data": {
      "image/png": "[encoded data removed]",
      "text/plain": [
       "<Figure size 432x288 with 1 Axes>"
      ]
     },
     "metadata": {
      "needs_background": "light"
     },
     "output_type": "display_data"
    }
   ],
   "source": [
    "#plotting a histogram of the SPM variable\n",
    "n, bins, patches = plt.hist(\n",
    "    x=pollution['SPM'], bins='auto',\n",
    "    alpha=0.7, rwidth=0.85\n",
    ")\n",
    "plt.grid(axis='y', alpha=0.75)\n",
    "plt.xlabel('SPM')\n",
    "plt.ylabel('Frequency')"
   ]
  },
  {
   "cell_type": "code",
   "execution_count": null,
   "id": "84f7c771",
   "metadata": {},
   "outputs": [],
   "source": []
  }
 ],
 "metadata": {
  "kernelspec": {
   "display_name": "Python 3",
   "language": "python",
   "name": "python3"
  },
  "language_info": {
   "codemirror_mode": {
    "name": "ipython",
    "version": 3
   },
   "file_extension": ".py",
   "mimetype": "text/x-python",
   "name": "python",
   "nbconvert_exporter": "python",
   "pygments_lexer": "ipython3",
   "version": "3.8.8"
  }
 },
 "nbformat": 4,
 "nbformat_minor": 5
}
